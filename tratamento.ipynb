{
 "cells": [
  {
   "cell_type": "markdown",
   "metadata": {},
   "source": [
    "# **Tratamento dos dados de Projetos de Monitoramento de Praia (PMPs) entre os anos de 2020-2024**"
   ]
  },
  {
   "cell_type": "markdown",
   "metadata": {},
   "source": [
    "## **Descrição**\n",
    "### **Objetivo**:\n",
    "\n",
    "Esse notebook realiza as etapas de limpeza e tratamento dos dados para análises posteriores realizadas em Power BI, garantindo melhor desempenho das consultas e visualizações utilizadas no dashboard  \n",
    "\n",
    "### **Dados**:\n",
    "\n",
    "Os arquivos em csv foram obtidos do Sistema de Informação de Monitoramento da Biota Aquática ([SIMBA](https://simba.petrobras.com.br/simba/web/)), utilizando os filtros de data inicial para 01/01/2020 e data final para 31/12/2024. Uma vez obtidos, os mesmos foram hospedados em Google Drive em compartilhamento público (links disponíveis em [util.py](https://github.com/tainahguerras/PMP-Petrobras-Analise/blob/main/utils.py))\n",
    "\n",
    "### **Etapas**:\n",
    "1. Importação das Bibliotecas\n",
    "\n",
    "2. Importação dos Dados\n",
    "\n",
    "3. Checagem dos Dados\n",
    "\n",
    "4. Tranformação dos Dados\n",
    "\n",
    "5. Download dos Datasets Tratados\n"
   ]
  },
  {
   "cell_type": "markdown",
   "metadata": {},
   "source": [
    "## **Importação de Bibliotecas**"
   ]
  },
  {
   "cell_type": "code",
   "execution_count": 1,
   "metadata": {},
   "outputs": [],
   "source": [
    "import pandas as pd\n",
    "pd.set_option('display.max_columns', None)\n",
    "\n",
    "import utils as ut # importa listas e funções definidas em utils.py"
   ]
  },
  {
   "cell_type": "markdown",
   "metadata": {},
   "source": [
    "## **Importação dos Dados**"
   ]
  },
  {
   "cell_type": "markdown",
   "metadata": {},
   "source": [
    "Durante a importação, definimos o tipo correto para coluna \"Data/Hora\", considerando o formato DD/MM/AAAA"
   ]
  },
  {
   "cell_type": "code",
   "execution_count": 2,
   "metadata": {},
   "outputs": [],
   "source": [
    "datasets = {}\n",
    "nomes = ['BC_ES', 'BS_RJ', 'BS_SC_PR', 'BS_SP', 'RN_CE', 'SE_AL']\n",
    "\n",
    "urls_convertidas = [ut.conversor_url(url) for url in ut.urls] # convertendo urls de compartilhamento do sheets para formato aceito por .read_csv()\n",
    "\n",
    "# Criando datasets e armazenando em dicionário\n",
    "for i in range(len(nomes)): \n",
    "    datasets[nomes[i]] = pd.read_csv(urls_convertidas[i],parse_dates=['Data/Hora'],dayfirst=True,low_memory=False)[ut.colunas_selecionadas]"
   ]
  },
  {
   "cell_type": "markdown",
   "metadata": {},
   "source": [
    "## **Checagem dos Dados**"
   ]
  },
  {
   "cell_type": "code",
   "execution_count": 3,
   "metadata": {},
   "outputs": [
    {
     "data": {
      "text/html": [
       "<div>\n",
       "<style scoped>\n",
       "    .dataframe tbody tr th:only-of-type {\n",
       "        vertical-align: middle;\n",
       "    }\n",
       "\n",
       "    .dataframe tbody tr th {\n",
       "        vertical-align: top;\n",
       "    }\n",
       "\n",
       "    .dataframe thead th {\n",
       "        text-align: right;\n",
       "    }\n",
       "</style>\n",
       "<table border=\"1\" class=\"dataframe\">\n",
       "  <thead>\n",
       "    <tr style=\"text-align: right;\">\n",
       "      <th></th>\n",
       "      <th>Código</th>\n",
       "      <th>Identificador do indivíduo</th>\n",
       "      <th>Instituição executora</th>\n",
       "      <th>Estado</th>\n",
       "      <th>Cidade</th>\n",
       "      <th>Praia</th>\n",
       "      <th>Trecho</th>\n",
       "      <th>Estratégia do trecho</th>\n",
       "      <th>Maré inicial</th>\n",
       "      <th>Vento inicial</th>\n",
       "      <th>Tipo do monitoramento</th>\n",
       "      <th>Data/Hora</th>\n",
       "      <th>Ponto - Lat</th>\n",
       "      <th>Ponto - Long</th>\n",
       "      <th>Espécies - Classe</th>\n",
       "      <th>Espécies - Ordem</th>\n",
       "      <th>Espécies - Subordem</th>\n",
       "      <th>Espécies - Família</th>\n",
       "      <th>Espécies - Gênero</th>\n",
       "      <th>Espécies - Espécie</th>\n",
       "      <th>Espécie ameaçada</th>\n",
       "      <th>Caracterização do ambiente</th>\n",
       "      <th>Condição</th>\n",
       "    </tr>\n",
       "  </thead>\n",
       "  <tbody>\n",
       "    <tr>\n",
       "      <th>0</th>\n",
       "      <td>325581</td>\n",
       "      <td>136459</td>\n",
       "      <td>Biota</td>\n",
       "      <td>Alagoas</td>\n",
       "      <td>Piaçabuçu</td>\n",
       "      <td>zz desativado 1 Praia Pontal do Peba</td>\n",
       "      <td>zz desativado 1 APA (Peba)</td>\n",
       "      <td>Diário</td>\n",
       "      <td>Vazante</td>\n",
       "      <td>2 - Brisa leve – 6 até 11 km/h</td>\n",
       "      <td>Regular</td>\n",
       "      <td>2024-10-22 11:44:00</td>\n",
       "      <td>-1.038.249</td>\n",
       "      <td>-363.215.983</td>\n",
       "      <td>Reptilia</td>\n",
       "      <td>Testudines</td>\n",
       "      <td>Cryptodira</td>\n",
       "      <td>Cheloniidae</td>\n",
       "      <td>Lepidochelys</td>\n",
       "      <td>Lepidochelys olivacea</td>\n",
       "      <td>Sim</td>\n",
       "      <td>Arenoso</td>\n",
       "      <td>Morto</td>\n",
       "    </tr>\n",
       "    <tr>\n",
       "      <th>1</th>\n",
       "      <td>325580</td>\n",
       "      <td>136240</td>\n",
       "      <td>Biota</td>\n",
       "      <td>Alagoas</td>\n",
       "      <td>Piaçabuçu</td>\n",
       "      <td>zz desativado 1 Praia Pontal do Peba</td>\n",
       "      <td>zz desativado 1 APA (Peba)</td>\n",
       "      <td>Diário</td>\n",
       "      <td>Vazante</td>\n",
       "      <td>2 - Brisa leve – 6 até 11 km/h</td>\n",
       "      <td>Regular</td>\n",
       "      <td>2024-10-22 11:24:00</td>\n",
       "      <td>-103.717.217</td>\n",
       "      <td>-363.134.683</td>\n",
       "      <td>Reptilia</td>\n",
       "      <td>Testudines</td>\n",
       "      <td>Cryptodira</td>\n",
       "      <td>Cheloniidae</td>\n",
       "      <td>Lepidochelys</td>\n",
       "      <td>Lepidochelys olivacea</td>\n",
       "      <td>Sim</td>\n",
       "      <td>Arenoso</td>\n",
       "      <td>Morto</td>\n",
       "    </tr>\n",
       "    <tr>\n",
       "      <th>2</th>\n",
       "      <td>325489</td>\n",
       "      <td>131188</td>\n",
       "      <td>TAMAR</td>\n",
       "      <td>Sergipe</td>\n",
       "      <td>Aracaju</td>\n",
       "      <td>zz desativado 1 Praia Aracaju</td>\n",
       "      <td>zz desativado 1 Aracaju</td>\n",
       "      <td>Diário</td>\n",
       "      <td>Enchente</td>\n",
       "      <td>4 - Brisa fraca – 20 até 29 km/h</td>\n",
       "      <td>Regular</td>\n",
       "      <td>2024-10-22 09:39:00</td>\n",
       "      <td>-110.581.917</td>\n",
       "      <td>-3.709.627</td>\n",
       "      <td>Reptilia</td>\n",
       "      <td>Testudines</td>\n",
       "      <td>Cryptodira</td>\n",
       "      <td>Cheloniidae</td>\n",
       "      <td>Chelonia</td>\n",
       "      <td>Chelonia mydas</td>\n",
       "      <td>Não</td>\n",
       "      <td>Arenoso</td>\n",
       "      <td>Morto</td>\n",
       "    </tr>\n",
       "    <tr>\n",
       "      <th>3</th>\n",
       "      <td>325456</td>\n",
       "      <td>136554</td>\n",
       "      <td>TAMAR</td>\n",
       "      <td>Bahia</td>\n",
       "      <td>Jandaíra</td>\n",
       "      <td>zz desativado 1 Praia Mangue Seco</td>\n",
       "      <td>zz desativado 1 Mangue Seco</td>\n",
       "      <td>Diário</td>\n",
       "      <td>Enchente</td>\n",
       "      <td>2 - Brisa leve – 6 até 11 km/h</td>\n",
       "      <td>Regular</td>\n",
       "      <td>2024-10-22 07:15:00</td>\n",
       "      <td>-114.830.733</td>\n",
       "      <td>-373.694.517</td>\n",
       "      <td>Reptilia</td>\n",
       "      <td>Testudines</td>\n",
       "      <td>Cryptodira</td>\n",
       "      <td>Cheloniidae</td>\n",
       "      <td>Lepidochelys</td>\n",
       "      <td>Lepidochelys olivacea</td>\n",
       "      <td>Sim</td>\n",
       "      <td>Arenoso</td>\n",
       "      <td>Morto</td>\n",
       "    </tr>\n",
       "    <tr>\n",
       "      <th>4</th>\n",
       "      <td>325410</td>\n",
       "      <td>137100</td>\n",
       "      <td>TAMAR</td>\n",
       "      <td>Sergipe</td>\n",
       "      <td>Brejo Grande,Pacatuba,Pirambu</td>\n",
       "      <td>zz desativado 1 Praia Ponta dos Mangues</td>\n",
       "      <td>zz desativado 1 Anuência_Norte</td>\n",
       "      <td>Diário</td>\n",
       "      <td>Enchente</td>\n",
       "      <td>2 - Brisa leve – 6 até 11 km/h</td>\n",
       "      <td>Regular</td>\n",
       "      <td>2024-10-22 06:25:00</td>\n",
       "      <td>-105.369</td>\n",
       "      <td>-36.494</td>\n",
       "      <td>Reptilia</td>\n",
       "      <td>Testudines</td>\n",
       "      <td>Cryptodira</td>\n",
       "      <td>Cheloniidae</td>\n",
       "      <td>Chelonia</td>\n",
       "      <td>Chelonia mydas</td>\n",
       "      <td>Não</td>\n",
       "      <td>Arenoso</td>\n",
       "      <td>Morto</td>\n",
       "    </tr>\n",
       "  </tbody>\n",
       "</table>\n",
       "</div>"
      ],
      "text/plain": [
       "   Código  Identificador do indivíduo Instituição executora   Estado  \\\n",
       "0  325581                      136459                 Biota  Alagoas   \n",
       "1  325580                      136240                 Biota  Alagoas   \n",
       "2  325489                      131188                 TAMAR  Sergipe   \n",
       "3  325456                      136554                 TAMAR    Bahia   \n",
       "4  325410                      137100                 TAMAR  Sergipe   \n",
       "\n",
       "                          Cidade                                    Praia  \\\n",
       "0                      Piaçabuçu     zz desativado 1 Praia Pontal do Peba   \n",
       "1                      Piaçabuçu     zz desativado 1 Praia Pontal do Peba   \n",
       "2                        Aracaju            zz desativado 1 Praia Aracaju   \n",
       "3                       Jandaíra        zz desativado 1 Praia Mangue Seco   \n",
       "4  Brejo Grande,Pacatuba,Pirambu  zz desativado 1 Praia Ponta dos Mangues   \n",
       "\n",
       "                           Trecho Estratégia do trecho Maré inicial  \\\n",
       "0      zz desativado 1 APA (Peba)               Diário      Vazante   \n",
       "1      zz desativado 1 APA (Peba)               Diário      Vazante   \n",
       "2         zz desativado 1 Aracaju               Diário     Enchente   \n",
       "3     zz desativado 1 Mangue Seco               Diário     Enchente   \n",
       "4  zz desativado 1 Anuência_Norte               Diário     Enchente   \n",
       "\n",
       "                      Vento inicial Tipo do monitoramento           Data/Hora  \\\n",
       "0    2 - Brisa leve – 6 até 11 km/h               Regular 2024-10-22 11:44:00   \n",
       "1    2 - Brisa leve – 6 até 11 km/h               Regular 2024-10-22 11:24:00   \n",
       "2  4 - Brisa fraca – 20 até 29 km/h               Regular 2024-10-22 09:39:00   \n",
       "3    2 - Brisa leve – 6 até 11 km/h               Regular 2024-10-22 07:15:00   \n",
       "4    2 - Brisa leve – 6 até 11 km/h               Regular 2024-10-22 06:25:00   \n",
       "\n",
       "    Ponto - Lat  Ponto - Long Espécies - Classe Espécies - Ordem  \\\n",
       "0    -1.038.249  -363.215.983          Reptilia       Testudines   \n",
       "1  -103.717.217  -363.134.683          Reptilia       Testudines   \n",
       "2  -110.581.917    -3.709.627          Reptilia       Testudines   \n",
       "3  -114.830.733  -373.694.517          Reptilia       Testudines   \n",
       "4      -105.369       -36.494          Reptilia       Testudines   \n",
       "\n",
       "  Espécies - Subordem Espécies - Família Espécies - Gênero  \\\n",
       "0          Cryptodira        Cheloniidae      Lepidochelys   \n",
       "1          Cryptodira        Cheloniidae      Lepidochelys   \n",
       "2          Cryptodira        Cheloniidae          Chelonia   \n",
       "3          Cryptodira        Cheloniidae      Lepidochelys   \n",
       "4          Cryptodira        Cheloniidae          Chelonia   \n",
       "\n",
       "      Espécies - Espécie Espécie ameaçada Caracterização do ambiente Condição  \n",
       "0  Lepidochelys olivacea              Sim                    Arenoso    Morto  \n",
       "1  Lepidochelys olivacea              Sim                    Arenoso    Morto  \n",
       "2         Chelonia mydas              Não                    Arenoso    Morto  \n",
       "3  Lepidochelys olivacea              Sim                    Arenoso    Morto  \n",
       "4         Chelonia mydas              Não                    Arenoso    Morto  "
      ]
     },
     "execution_count": 3,
     "metadata": {},
     "output_type": "execute_result"
    }
   ],
   "source": [
    "datasets['SE_AL'].head() # Exemplo de dataset criado"
   ]
  },
  {
   "cell_type": "markdown",
   "metadata": {},
   "source": [
    "**Checando tipagem dos dados**"
   ]
  },
  {
   "cell_type": "code",
   "execution_count": 4,
   "metadata": {},
   "outputs": [
    {
     "data": {
      "text/plain": [
       "Código                                 int64\n",
       "Identificador do indivíduo             int64\n",
       "Instituição executora                 object\n",
       "Estado                                object\n",
       "Cidade                                object\n",
       "Praia                                 object\n",
       "Trecho                                object\n",
       "Estratégia do trecho                  object\n",
       "Maré inicial                          object\n",
       "Vento inicial                         object\n",
       "Tipo do monitoramento                 object\n",
       "Data/Hora                     datetime64[ns]\n",
       "Ponto - Lat                           object\n",
       "Ponto - Long                          object\n",
       "Espécies - Classe                     object\n",
       "Espécies - Ordem                      object\n",
       "Espécies - Subordem                   object\n",
       "Espécies - Família                    object\n",
       "Espécies - Gênero                     object\n",
       "Espécies - Espécie                    object\n",
       "Espécie ameaçada                      object\n",
       "Caracterização do ambiente            object\n",
       "Condição                              object\n",
       "dtype: object"
      ]
     },
     "execution_count": 4,
     "metadata": {},
     "output_type": "execute_result"
    }
   ],
   "source": [
    "datasets['SE_AL'].dtypes"
   ]
  },
  {
   "cell_type": "markdown",
   "metadata": {},
   "source": [
    "**Checando filtragem das datas**"
   ]
  },
  {
   "cell_type": "markdown",
   "metadata": {},
   "source": [
    "Vamos conferir a filtragem utilizada para download dos datasets através do SIMBA, em que se definiu a data mínima como 01/01/2020 e a data máxima como 31/12/2024"
   ]
  },
  {
   "cell_type": "code",
   "execution_count": 5,
   "metadata": {},
   "outputs": [
    {
     "name": "stdout",
     "output_type": "stream",
     "text": [
      "Dataset: BC_ES\n",
      "  Data mínima: 2020-01-01 07:16:00\n",
      "  Data máxima: 2024-11-03 11:36:00\n",
      "---------------------------\n",
      "Dataset: BS_RJ\n",
      "  Data mínima: 2020-01-01 06:49:00\n",
      "  Data máxima: 2024-11-01 08:09:00\n",
      "---------------------------\n",
      "Dataset: BS_SC_PR\n",
      "  Data mínima: 2020-01-01 08:15:00\n",
      "  Data máxima: 2024-11-02 08:28:00\n",
      "---------------------------\n",
      "Dataset: BS_SP\n",
      "  Data mínima: 2020-01-01 05:27:00\n",
      "  Data máxima: 2024-11-03 08:14:00\n",
      "---------------------------\n",
      "Dataset: RN_CE\n",
      "  Data mínima: 2020-01-02 07:21:00\n",
      "  Data máxima: 2024-07-31 09:06:00\n",
      "---------------------------\n",
      "Dataset: SE_AL\n",
      "  Data mínima: 2020-01-01 12:46:00\n",
      "  Data máxima: 2024-10-22 11:44:00\n",
      "---------------------------\n"
     ]
    }
   ],
   "source": [
    "for nome, df in datasets.items():\n",
    "    print(f\"Dataset: {nome}\")\n",
    "    print(f\"  Data mínima: {df['Data/Hora'].min()}\")\n",
    "    print(f'  Data máxima: {df['Data/Hora'].max()}')\n",
    "    print('-' * 27)"
   ]
  },
  {
   "cell_type": "markdown",
   "metadata": {},
   "source": [
    "**Checando tamanhos dos datasets**"
   ]
  },
  {
   "cell_type": "code",
   "execution_count": 6,
   "metadata": {},
   "outputs": [
    {
     "name": "stdout",
     "output_type": "stream",
     "text": [
      "BC_ES: (24246, 23)\n",
      "BS_RJ: (10565, 23)\n",
      "BS_SC_PR: (51776, 23)\n",
      "BS_SP: (23576, 23)\n",
      "RN_CE: (3488, 23)\n",
      "SE_AL: (9246, 23)\n"
     ]
    }
   ],
   "source": [
    "for nome, df in datasets.items():\n",
    "    print(f'{nome}: {df.shape}')"
   ]
  },
  {
   "cell_type": "markdown",
   "metadata": {},
   "source": [
    "**Checando registros duplicados**"
   ]
  },
  {
   "cell_type": "code",
   "execution_count": 7,
   "metadata": {},
   "outputs": [
    {
     "name": "stdout",
     "output_type": "stream",
     "text": [
      "BC_ES: 0 registros duplicados\n",
      "BS_RJ: 0 registros duplicados\n",
      "BS_SC_PR: 0 registros duplicados\n",
      "BS_SP: 0 registros duplicados\n",
      "RN_CE: 0 registros duplicados\n",
      "SE_AL: 0 registros duplicados\n"
     ]
    }
   ],
   "source": [
    "for nome, df in datasets.items():\n",
    "    print(f'{nome}: {df.duplicated().sum()} registros duplicados')"
   ]
  },
  {
   "cell_type": "markdown",
   "metadata": {},
   "source": [
    "**Checando registros ausentes**"
   ]
  },
  {
   "cell_type": "code",
   "execution_count": 8,
   "metadata": {},
   "outputs": [
    {
     "name": "stdout",
     "output_type": "stream",
     "text": [
      "Dataset: BC_ES\n",
      "\n",
      "Maré inicial                1\n",
      "Vento inicial               1\n",
      "Tipo do monitoramento      99\n",
      "Espécies - Subordem      4410\n",
      "Espécies - Família         42\n",
      "Espécies - Gênero          78\n",
      "Espécies - Espécie        140\n",
      "Espécie ameaçada          140\n",
      "dtype: int64\n",
      "---------------------------------\n",
      "Dataset: BS_RJ\n",
      "\n",
      "Maré inicial                4\n",
      "Vento inicial               4\n",
      "Tipo do monitoramento      13\n",
      "Espécies - Subordem      5931\n",
      "Espécies - Família         47\n",
      "Espécies - Gênero          98\n",
      "Espécies - Espécie        363\n",
      "Espécie ameaçada          363\n",
      "dtype: int64\n",
      "---------------------------------\n",
      "Dataset: BS_SC_PR\n",
      "\n",
      "Espécies - Ordem           2\n",
      "Espécies - Subordem    37782\n",
      "Espécies - Família       104\n",
      "Espécies - Gênero        230\n",
      "Espécies - Espécie       668\n",
      "Espécie ameaçada         668\n",
      "dtype: int64\n",
      "---------------------------------\n",
      "Dataset: BS_SP\n",
      "\n",
      "Maré inicial                13\n",
      "Vento inicial               13\n",
      "Tipo do monitoramento      148\n",
      "Espécies - Subordem      12251\n",
      "Espécies - Família          95\n",
      "Espécies - Gênero          327\n",
      "Espécies - Espécie         661\n",
      "Espécie ameaçada           661\n",
      "dtype: int64\n",
      "---------------------------------\n",
      "Dataset: RN_CE\n",
      "\n",
      "Estado                   143\n",
      "Cidade                   143\n",
      "Praia                    143\n",
      "Trecho                   143\n",
      "Estratégia do trecho     143\n",
      "Maré inicial             158\n",
      "Vento inicial            156\n",
      "Tipo do monitoramento    267\n",
      "Espécies - Subordem      476\n",
      "Espécies - Família        20\n",
      "Espécies - Gênero         51\n",
      "Espécies - Espécie       105\n",
      "Espécie ameaçada         105\n",
      "dtype: int64\n",
      "---------------------------------\n",
      "Dataset: SE_AL\n",
      "\n",
      "Maré inicial                4\n",
      "Vento inicial               4\n",
      "Tipo do monitoramento      65\n",
      "Espécies - Ordem            4\n",
      "Espécies - Subordem      3366\n",
      "Espécies - Família         48\n",
      "Espécies - Gênero          77\n",
      "Espécies - Espécie        755\n",
      "Espécie ameaçada          755\n",
      "dtype: int64\n",
      "---------------------------------\n"
     ]
    }
   ],
   "source": [
    "for nome, df in datasets.items():\n",
    "    print(f'Dataset: {nome}\\n')\n",
    "    print(df.isna().sum()[df.isna().sum() > 0])\n",
    "    print('-' * 33)"
   ]
  },
  {
   "cell_type": "markdown",
   "metadata": {},
   "source": [
    "Dentre as colunas que apresentaram alta quantidade de registros nulos, a de \"Espécie ameaçada\" é a que trás mais relevância para as análises, pois possibilita discussão acerca de impactos em espécies com maior vulnerabilidade. \n",
    "\n",
    "Para decidir se vale a pena mantê-la nos dados, vamos analisar mais proximamente a proporção de registros ausentes em relação ao total."
   ]
  },
  {
   "cell_type": "code",
   "execution_count": 9,
   "metadata": {},
   "outputs": [
    {
     "name": "stdout",
     "output_type": "stream",
     "text": [
      "BC_ES: 0.58% de valores ausentes\n",
      "BS_RJ: 3.44% de valores ausentes\n",
      "BS_SC_PR: 1.29% de valores ausentes\n",
      "BS_SP: 2.80% de valores ausentes\n",
      "RN_CE: 3.01% de valores ausentes\n",
      "SE_AL: 8.17% de valores ausentes\n"
     ]
    }
   ],
   "source": [
    "for nome, df in datasets.items():\n",
    "    ut.calcular_porcentagem_nulos(df, nome, 'Espécie ameaçada')"
   ]
  },
  {
   "cell_type": "markdown",
   "metadata": {},
   "source": [
    "A maioria dos datasets apresentou baixa taxa de valores ausentes na coluna 'Espécie Ameaçada', com SE_AL tendo o maior percentual (8.17%). Esse valor ainda é aceitável e não compromete as análises, justificando a permanência da coluna."
   ]
  },
  {
   "cell_type": "markdown",
   "metadata": {},
   "source": [
    "## **Tranformação dos Dados**"
   ]
  },
  {
   "cell_type": "markdown",
   "metadata": {},
   "source": [
    "Nesta etapa, foram realizadas:\n",
    "* Deleção de colunas que não trazem relevância para os objetivos da análise\n",
    "* Alteração dos registros de \"Data/Hora\" para que constem somente a data\n",
    "* Alteração dos registros de \"Cidade\" para que constem somente a primeira cidade marcada, quando mais de uma foram inseridas"
   ]
  },
  {
   "cell_type": "code",
   "execution_count": 10,
   "metadata": {},
   "outputs": [],
   "source": [
    "colunas_dispensaveis = ['Identificador do indivíduo', 'Trecho', 'Maré inicial', 'Praia', 'Vento inicial', 'Tipo do monitoramento', 'Espécies - Subordem', 'Espécies - Família', 'Espécies - Gênero']\n",
    "dfs_tratados = {}\n",
    "\n",
    "for nome,df in datasets.items():\n",
    "\n",
    "    # Remove colunas dispensáveis\n",
    "    df_tratado = df.drop(columns=colunas_dispensaveis).dropna().copy() \n",
    "\n",
    "    # Tratando coluna \"Data/Hora\"\n",
    "    df_tratado['Data/Hora'] = df_tratado['Data/Hora'].dt.date    # remove horários da coluna \"Data/Hora\"\n",
    "    df_tratado.rename(columns={'Data/Hora':'Data'},inplace=True) # muda nome da coluna \"Data/Hora\" para \"Data\"\n",
    "\n",
    "    # Tratando coluna \"Cidade\"\n",
    "    df_tratado = df_tratado.join(df_tratado['Cidade'].str.split(',', expand=True).add_prefix('Cidade ')) # divide coluna 'Cidade\", com múltiplos registros separados por vírgula, em múltiplas colunas\n",
    "    colunas_drop = [col for col in df_tratado.columns if col.startswith('Cidade') and col != 'Cidade 0'] # define dinamicamente colunas a serem deletadas, exceto a contendo somente a primeira cidade\n",
    "    df_tratado = df_tratado.drop(columns=colunas_drop)                                                   # remove colunas extras de Cidade\n",
    "    df_tratado.rename(columns={'Cidade 0':'Cidade'},inplace=True)                                        # renomeia coluna de cidade\n",
    "\n",
    "    dfs_tratados[nome] = df_tratado"
   ]
  },
  {
   "cell_type": "markdown",
   "metadata": {},
   "source": [
    "**Checando modificações**"
   ]
  },
  {
   "cell_type": "code",
   "execution_count": 11,
   "metadata": {},
   "outputs": [
    {
     "data": {
      "text/html": [
       "<div>\n",
       "<style scoped>\n",
       "    .dataframe tbody tr th:only-of-type {\n",
       "        vertical-align: middle;\n",
       "    }\n",
       "\n",
       "    .dataframe tbody tr th {\n",
       "        vertical-align: top;\n",
       "    }\n",
       "\n",
       "    .dataframe thead th {\n",
       "        text-align: right;\n",
       "    }\n",
       "</style>\n",
       "<table border=\"1\" class=\"dataframe\">\n",
       "  <thead>\n",
       "    <tr style=\"text-align: right;\">\n",
       "      <th></th>\n",
       "      <th>Código</th>\n",
       "      <th>Instituição executora</th>\n",
       "      <th>Estado</th>\n",
       "      <th>Estratégia do trecho</th>\n",
       "      <th>Data</th>\n",
       "      <th>Ponto - Lat</th>\n",
       "      <th>Ponto - Long</th>\n",
       "      <th>Espécies - Classe</th>\n",
       "      <th>Espécies - Ordem</th>\n",
       "      <th>Espécies - Espécie</th>\n",
       "      <th>Espécie ameaçada</th>\n",
       "      <th>Caracterização do ambiente</th>\n",
       "      <th>Condição</th>\n",
       "      <th>Cidade</th>\n",
       "    </tr>\n",
       "  </thead>\n",
       "  <tbody>\n",
       "    <tr>\n",
       "      <th>0</th>\n",
       "      <td>325581</td>\n",
       "      <td>Biota</td>\n",
       "      <td>Alagoas</td>\n",
       "      <td>Diário</td>\n",
       "      <td>2024-10-22</td>\n",
       "      <td>-1.038.249</td>\n",
       "      <td>-363.215.983</td>\n",
       "      <td>Reptilia</td>\n",
       "      <td>Testudines</td>\n",
       "      <td>Lepidochelys olivacea</td>\n",
       "      <td>Sim</td>\n",
       "      <td>Arenoso</td>\n",
       "      <td>Morto</td>\n",
       "      <td>Piaçabuçu</td>\n",
       "    </tr>\n",
       "    <tr>\n",
       "      <th>1</th>\n",
       "      <td>325580</td>\n",
       "      <td>Biota</td>\n",
       "      <td>Alagoas</td>\n",
       "      <td>Diário</td>\n",
       "      <td>2024-10-22</td>\n",
       "      <td>-103.717.217</td>\n",
       "      <td>-363.134.683</td>\n",
       "      <td>Reptilia</td>\n",
       "      <td>Testudines</td>\n",
       "      <td>Lepidochelys olivacea</td>\n",
       "      <td>Sim</td>\n",
       "      <td>Arenoso</td>\n",
       "      <td>Morto</td>\n",
       "      <td>Piaçabuçu</td>\n",
       "    </tr>\n",
       "    <tr>\n",
       "      <th>2</th>\n",
       "      <td>325489</td>\n",
       "      <td>TAMAR</td>\n",
       "      <td>Sergipe</td>\n",
       "      <td>Diário</td>\n",
       "      <td>2024-10-22</td>\n",
       "      <td>-110.581.917</td>\n",
       "      <td>-3.709.627</td>\n",
       "      <td>Reptilia</td>\n",
       "      <td>Testudines</td>\n",
       "      <td>Chelonia mydas</td>\n",
       "      <td>Não</td>\n",
       "      <td>Arenoso</td>\n",
       "      <td>Morto</td>\n",
       "      <td>Aracaju</td>\n",
       "    </tr>\n",
       "    <tr>\n",
       "      <th>3</th>\n",
       "      <td>325456</td>\n",
       "      <td>TAMAR</td>\n",
       "      <td>Bahia</td>\n",
       "      <td>Diário</td>\n",
       "      <td>2024-10-22</td>\n",
       "      <td>-114.830.733</td>\n",
       "      <td>-373.694.517</td>\n",
       "      <td>Reptilia</td>\n",
       "      <td>Testudines</td>\n",
       "      <td>Lepidochelys olivacea</td>\n",
       "      <td>Sim</td>\n",
       "      <td>Arenoso</td>\n",
       "      <td>Morto</td>\n",
       "      <td>Jandaíra</td>\n",
       "    </tr>\n",
       "    <tr>\n",
       "      <th>4</th>\n",
       "      <td>325410</td>\n",
       "      <td>TAMAR</td>\n",
       "      <td>Sergipe</td>\n",
       "      <td>Diário</td>\n",
       "      <td>2024-10-22</td>\n",
       "      <td>-105.369</td>\n",
       "      <td>-36.494</td>\n",
       "      <td>Reptilia</td>\n",
       "      <td>Testudines</td>\n",
       "      <td>Chelonia mydas</td>\n",
       "      <td>Não</td>\n",
       "      <td>Arenoso</td>\n",
       "      <td>Morto</td>\n",
       "      <td>Brejo Grande</td>\n",
       "    </tr>\n",
       "  </tbody>\n",
       "</table>\n",
       "</div>"
      ],
      "text/plain": [
       "   Código Instituição executora   Estado Estratégia do trecho        Data  \\\n",
       "0  325581                 Biota  Alagoas               Diário  2024-10-22   \n",
       "1  325580                 Biota  Alagoas               Diário  2024-10-22   \n",
       "2  325489                 TAMAR  Sergipe               Diário  2024-10-22   \n",
       "3  325456                 TAMAR    Bahia               Diário  2024-10-22   \n",
       "4  325410                 TAMAR  Sergipe               Diário  2024-10-22   \n",
       "\n",
       "    Ponto - Lat  Ponto - Long Espécies - Classe Espécies - Ordem  \\\n",
       "0    -1.038.249  -363.215.983          Reptilia       Testudines   \n",
       "1  -103.717.217  -363.134.683          Reptilia       Testudines   \n",
       "2  -110.581.917    -3.709.627          Reptilia       Testudines   \n",
       "3  -114.830.733  -373.694.517          Reptilia       Testudines   \n",
       "4      -105.369       -36.494          Reptilia       Testudines   \n",
       "\n",
       "      Espécies - Espécie Espécie ameaçada Caracterização do ambiente Condição  \\\n",
       "0  Lepidochelys olivacea              Sim                    Arenoso    Morto   \n",
       "1  Lepidochelys olivacea              Sim                    Arenoso    Morto   \n",
       "2         Chelonia mydas              Não                    Arenoso    Morto   \n",
       "3  Lepidochelys olivacea              Sim                    Arenoso    Morto   \n",
       "4         Chelonia mydas              Não                    Arenoso    Morto   \n",
       "\n",
       "         Cidade  \n",
       "0     Piaçabuçu  \n",
       "1     Piaçabuçu  \n",
       "2       Aracaju  \n",
       "3      Jandaíra  \n",
       "4  Brejo Grande  "
      ]
     },
     "execution_count": 11,
     "metadata": {},
     "output_type": "execute_result"
    }
   ],
   "source": [
    "dfs_tratados['SE_AL'].head()"
   ]
  },
  {
   "cell_type": "code",
   "execution_count": 12,
   "metadata": {},
   "outputs": [
    {
     "name": "stdout",
     "output_type": "stream",
     "text": [
      "Dataset: BC_ES\n",
      "  Não há valores ausentes.\n",
      "  Tamanho final: (24106, 14)\n",
      "---------------------------\n",
      "Dataset: BS_RJ\n",
      "  Não há valores ausentes.\n",
      "  Tamanho final: (10202, 14)\n",
      "---------------------------\n",
      "Dataset: BS_SC_PR\n",
      "  Não há valores ausentes.\n",
      "  Tamanho final: (51108, 14)\n",
      "---------------------------\n",
      "Dataset: BS_SP\n",
      "  Não há valores ausentes.\n",
      "  Tamanho final: (22915, 14)\n",
      "---------------------------\n",
      "Dataset: RN_CE\n",
      "  Não há valores ausentes.\n",
      "  Tamanho final: (3246, 14)\n",
      "---------------------------\n",
      "Dataset: SE_AL\n",
      "  Não há valores ausentes.\n",
      "  Tamanho final: (8491, 14)\n",
      "---------------------------\n"
     ]
    }
   ],
   "source": [
    "for nome, df in dfs_tratados.items():\n",
    "    print(f\"Dataset: {nome}\")\n",
    "    if df.isna().sum().sum() == 0: \n",
    "        print(\"  Não há valores ausentes.\")\n",
    "    else:\n",
    "        print(\"  Valores ausentes encontrados:\")\n",
    "    print(f'  Tamanho final: {df.shape}')\n",
    "    print('-' * 27)"
   ]
  },
  {
   "cell_type": "markdown",
   "metadata": {},
   "source": [
    "## **Download dos Datasets Tratados**"
   ]
  },
  {
   "cell_type": "markdown",
   "metadata": {},
   "source": [
    "Os datasets tratados foram convertidos para formato csv e salvos em [datasets_tratados](https://github.com/tainahguerras/PMP-Petrobras-Analise/tree/main/datasets_tratados), para serem posteriormente utilizados na criação de dashboard atrés do Power BI"
   ]
  },
  {
   "cell_type": "code",
   "execution_count": 13,
   "metadata": {},
   "outputs": [],
   "source": [
    "import os\n",
    "\n",
    "# Criando pasta e fazendo download de datasets tratados em .csv \n",
    "\n",
    "pasta_saida = \"datasets_tratados\"\n",
    "\n",
    "os.makedirs(\"datasets_tratados\", exist_ok=True) # cria pasta de saída no repositório\n",
    "\n",
    "for nome, df in dfs_tratados.items():\n",
    "    caminho_arquivo = os.path.join(pasta_saida, f\"{nome}.csv\")\n",
    "    df.to_csv(caminho_arquivo, index=False, encoding=\"utf-8\")"
   ]
  }
 ],
 "metadata": {
  "kernelspec": {
   "display_name": "Python 3",
   "language": "python",
   "name": "python3"
  },
  "language_info": {
   "codemirror_mode": {
    "name": "ipython",
    "version": 3
   },
   "file_extension": ".py",
   "mimetype": "text/x-python",
   "name": "python",
   "nbconvert_exporter": "python",
   "pygments_lexer": "ipython3",
   "version": "3.12.1"
  }
 },
 "nbformat": 4,
 "nbformat_minor": 2
}
